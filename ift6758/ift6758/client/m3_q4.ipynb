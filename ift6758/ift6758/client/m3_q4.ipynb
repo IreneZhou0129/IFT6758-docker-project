{
 "cells": [
  {
   "cell_type": "code",
   "execution_count": 57,
   "id": "b919ff58-683c-40a2-bac0-dff8d600c780",
   "metadata": {},
   "outputs": [],
   "source": [
    "import ipywidgets as widgets\n",
    "from IPython.display import display, clear_output, Markdown"
   ]
  },
  {
   "cell_type": "code",
   "execution_count": 74,
   "id": "25e8b36c-4aba-44fc-afbc-eabbf1530970",
   "metadata": {},
   "outputs": [
    {
     "ename": "ModuleNotFoundError",
     "evalue": "No module named 'game_client'",
     "output_type": "error",
     "traceback": [
      "\u001b[0;31m---------------------------------------------------------------------------\u001b[0m",
      "\u001b[0;31mModuleNotFoundError\u001b[0m                       Traceback (most recent call last)",
      "\u001b[0;32m/var/folders/r1/g6g5ylnd3l5fdc1tyq1k0v4c0000gn/T/ipykernel_9829/2468274893.py\u001b[0m in \u001b[0;36m<module>\u001b[0;34m\u001b[0m\n\u001b[0;32m----> 1\u001b[0;31m \u001b[0;32mfrom\u001b[0m \u001b[0mgame_client\u001b[0m \u001b[0;32mimport\u001b[0m \u001b[0mGameClient\u001b[0m\u001b[0;34m\u001b[0m\u001b[0;34m\u001b[0m\u001b[0m\n\u001b[0m",
      "\u001b[0;31mModuleNotFoundError\u001b[0m: No module named 'game_client'"
     ]
    }
   ],
   "source": [
    "from game_client import GameClient"
   ]
  },
  {
   "cell_type": "code",
   "execution_count": 77,
   "id": "45b415ed-882b-42e2-abbc-ce054d0c6ad8",
   "metadata": {},
   "outputs": [
    {
     "data": {
      "application/vnd.jupyter.widget-view+json": {
       "model_id": "13afe0e4010b4f77aeb5adc50566b7e3",
       "version_major": 2,
       "version_minor": 0
      },
      "text/plain": [
       "VBox(children=(Text(value='eg. 2021020329', description='Game ID'), Button(description='Ping Game', style=Butt…"
      ]
     },
     "metadata": {},
     "output_type": "display_data"
    }
   ],
   "source": [
    "# defining some widgets\n",
    "game_id_input = widgets.Text(\n",
    "       value='eg. 2021020329',\n",
    "       description='Game ID', )\n",
    "\n",
    "button = widgets.Button(description='Ping Game')\n",
    "out = widgets.Output()\n",
    "def on_button_clicked(_):\n",
    "    # \"linking function with output\"\n",
    "    with out:# what happens when we press the button\n",
    "        clear_output()\n",
    "        print(f'pinging game: {game_id_input.value}')\n",
    "        game_client = GameClient(game_id=game_id_input.value)\n",
    "        game_client.q1()\n",
    "        game_client.q2()\n",
    "            \n",
    "# linking button and function together using a button's method\n",
    "button.on_click(on_button_clicked)\n",
    "# displaying button and its output together\n",
    "widgets.VBox([game_id,button,out])"
   ]
  },
  {
   "cell_type": "code",
   "execution_count": null,
   "id": "75f4ad95-40ac-4a65-839d-55dbd4734a95",
   "metadata": {},
   "outputs": [],
   "source": []
  }
 ],
 "metadata": {
  "kernelspec": {
   "display_name": "ift6758-conda-env",
   "language": "python",
   "name": "ift6758-conda-env"
  },
  "language_info": {
   "codemirror_mode": {
    "name": "ipython",
    "version": 3
   },
   "file_extension": ".py",
   "mimetype": "text/x-python",
   "name": "python",
   "nbconvert_exporter": "python",
   "pygments_lexer": "ipython3",
   "version": "3.9.7"
  }
 },
 "nbformat": 4,
 "nbformat_minor": 5
}
