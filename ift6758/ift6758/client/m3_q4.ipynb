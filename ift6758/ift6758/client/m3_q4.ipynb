{
 "cells": [
  {
   "cell_type": "code",
   "execution_count": 7,
   "id": "9f92e4df-e84d-48a1-b0a3-7b5359adb73c",
   "metadata": {},
   "outputs": [],
   "source": [
    "import ipywidgets as widgets\n",
    "from IPython.display import display, clear_output, Markdown"
   ]
  },
  {
   "cell_type": "code",
   "execution_count": 8,
   "id": "72231006-2e70-40b7-b6ae-34bd16009e8a",
   "metadata": {},
   "outputs": [],
   "source": [
    "from game_client import GameClient"
   ]
  },
  {
   "cell_type": "code",
   "execution_count": 9,
   "id": "80a2e1fd-d659-4783-96c6-119d19329e45",
   "metadata": {},
   "outputs": [],
   "source": [
    "# gc = GameClient()"
   ]
  },
  {
   "cell_type": "code",
   "execution_count": 10,
   "id": "f7ebe297-5f53-4e98-9ad5-38e9387a92ae",
   "metadata": {},
   "outputs": [],
   "source": [
    "# gc.process_and_save_data()"
   ]
  },
  {
   "cell_type": "code",
   "execution_count": 11,
   "id": "81ec62c6-3aa4-497f-a4d8-d257083c6c7c",
   "metadata": {},
   "outputs": [
    {
     "data": {
      "application/vnd.jupyter.widget-view+json": {
       "model_id": "13433bcf387f42fa96a3bcfefbb7c645",
       "version_major": 2,
       "version_minor": 0
      },
      "text/plain": [
       "VBox(children=(Text(value='eg. 2021020329', description='Game ID'), Button(description='Ping Game', style=Butt…"
      ]
     },
     "metadata": {},
     "output_type": "display_data"
    }
   ],
   "source": [
    "# defining some widgets\n",
    "game_id_input = widgets.Text(\n",
    "       value='eg. 2021020329',\n",
    "       description='Game ID', )\n",
    "\n",
    "button = widgets.Button(description='Ping Game')\n",
    "out = widgets.Output()\n",
    "def on_button_clicked(_):\n",
    "    # \"linking function with output\"\n",
    "    with out:# what happens when we press the button\n",
    "        clear_output()\n",
    "        print(f'pinging game: {game_id_input.value}')\n",
    "        \n",
    "        gc = GameClient(game_id_input.value)\n",
    "        # game_client = GameClient()\n",
    "\n",
    "        gc.process_and_save_data()\n",
    "            \n",
    "# linking button and function together using a button's method\n",
    "button.on_click(on_button_clicked)\n",
    "# displaying button and its output together\n",
    "widgets.VBox([game_id_input,button,out])"
   ]
  },
  {
   "cell_type": "code",
   "execution_count": null,
   "id": "9c5c5cc5-7975-48c8-b1e6-f4c59e3963d7",
   "metadata": {},
   "outputs": [],
   "source": []
  }
 ],
 "metadata": {
  "kernelspec": {
   "display_name": "Python 3 (ipykernel)",
   "language": "python",
   "name": "python3"
  },
  "language_info": {
   "codemirror_mode": {
    "name": "ipython",
    "version": 3
   },
   "file_extension": ".py",
   "mimetype": "text/x-python",
   "name": "python",
   "nbconvert_exporter": "python",
   "pygments_lexer": "ipython3",
   "version": "3.9.7"
  }
 },
 "nbformat": 4,
 "nbformat_minor": 5
}
