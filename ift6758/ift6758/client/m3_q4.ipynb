{
 "cells": [
  {
   "cell_type": "code",
   "execution_count": 9,
   "id": "7029089b-a0b5-4d23-9ea9-cab006770352",
   "metadata": {},
   "outputs": [],
   "source": [
    "import ipywidgets as widgets\n",
    "from IPython.display import display, clear_output, Markdown\n",
    "from prettytable import PrettyTable\n",
    "import numpy as np"
   ]
  },
  {
   "cell_type": "code",
   "execution_count": 10,
   "id": "b90ab996-df43-4af1-9b69-9d2d83b73a80",
   "metadata": {},
   "outputs": [],
   "source": [
    "from game_client import GameClient"
   ]
  },
  {
   "cell_type": "code",
   "execution_count": 11,
   "id": "a7584663-cf41-4b63-9f8c-ca1df4bf6226",
   "metadata": {},
   "outputs": [],
   "source": [
    "from serving_client import ServingClient\n",
    "sc = ServingClient()"
   ]
  },
  {
   "cell_type": "code",
   "execution_count": 12,
   "id": "4ecf1725-72c0-41a6-a7ac-47ce0f21117b",
   "metadata": {},
   "outputs": [
    {
     "data": {
      "application/vnd.jupyter.widget-view+json": {
       "model_id": "df7f1034ff474af7874f5d9a189cebf8",
       "version_major": 2,
       "version_minor": 0
      },
      "text/plain": [
       "VBox(children=(Text(value='2021020329', description='Game ID'), Button(description='Ping Game', style=ButtonSt…"
      ]
     },
     "metadata": {},
     "output_type": "display_data"
    }
   ],
   "source": [
    "# https://medium.com/@jdchipox/how-to-interact-with-jupyter-33a98686f24e\n",
    "# defining some widgets\n",
    "game_id_input = widgets.Text(\n",
    "       value='2021020329',\n",
    "       description='Game ID', )\n",
    "\n",
    "button = widgets.Button(description='Ping Game')\n",
    "out = widgets.Output()\n",
    "\n",
    "gc = GameClient()\n",
    "\n",
    "def on_button_clicked(_):\n",
    "    # \"linking function with output\"\n",
    "    with out:# what happens when we press the button\n",
    "        clear_output()\n",
    "        print(f'pinging game: {game_id_input.value}')\n",
    "\n",
    "        # process and predict data\n",
    "        df_without_team_name = gc.process_and_predict_data(game_id_input.value)\n",
    "        # print('button')\n",
    "        # print(df_without_team_name.shape[0])\n",
    "        xG = sc.predict(df_without_team_name)\n",
    "        # print('button xG', xG['response'])\n",
    "        # print('np.asarray(xG[\\'response\\'])[:, 1].tolist()', np.asarray(xG['response'])[:, 1].tolist())\n",
    "        gc.add_pred_probs_to_df(game_id_input.value, xG)\n",
    "        # display dataframe of sum of xGs\n",
    "        df_sum_xG = gc.get_xG_table(game_id_input.value)\n",
    "        print(df_sum_xG)\n",
    "        \n",
    "        # display new_df of all features\n",
    "        df_all = gc.games_dataframes[game_id_input.value]\n",
    "        print(df_all)\n",
    "        \n",
    "            \n",
    "# linking button and function together using a button's method\n",
    "button.on_click(on_button_clicked)\n",
    "# displaying button and its output together\n",
    "widgets.VBox([game_id_input,button,out])"
   ]
  },
  {
   "cell_type": "code",
   "execution_count": null,
   "id": "4328bdab-5beb-44f8-99b8-13ea8a56a593",
   "metadata": {},
   "outputs": [],
   "source": []
  }
 ],
 "metadata": {
  "kernelspec": {
   "display_name": "ift6758-conda-env",
   "language": "python",
   "name": "ift6758-conda-env"
  },
  "language_info": {
   "codemirror_mode": {
    "name": "ipython",
    "version": 3
   },
   "file_extension": ".py",
   "mimetype": "text/x-python",
   "name": "python",
   "nbconvert_exporter": "python",
   "pygments_lexer": "ipython3",
   "version": "3.9.7"
  }
 },
 "nbformat": 4,
 "nbformat_minor": 5
}
