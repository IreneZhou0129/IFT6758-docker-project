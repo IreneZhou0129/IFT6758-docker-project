{
 "cells": [
  {
   "cell_type": "code",
   "execution_count": 1,
   "id": "2090a877-f937-4a35-8bcd-a20559805af7",
   "metadata": {},
   "outputs": [],
   "source": [
    "import ipywidgets as widgets\n",
    "from IPython.display import display, clear_output, Markdown\n",
    "from prettytable import PrettyTable"
   ]
  },
  {
   "cell_type": "code",
   "execution_count": 2,
   "id": "74f51d4c-63c5-45ed-a032-68d24d0f3403",
   "metadata": {},
   "outputs": [],
   "source": [
    "from game_client import GameClient"
   ]
  },
  {
   "cell_type": "code",
   "execution_count": 3,
   "id": "f0e24fd9-69ae-4d83-80f1-060bd3799879",
   "metadata": {},
   "outputs": [],
   "source": [
    "from serving_client import ServingClient\n",
    "sc = ServingClient()"
   ]
  },
  {
   "cell_type": "code",
   "execution_count": 8,
   "id": "4bb0a7a2-ad60-47ad-8ab7-2eb49149d2a8",
   "metadata": {
    "tags": []
   },
   "outputs": [
    {
     "data": {
      "application/vnd.jupyter.widget-view+json": {
       "model_id": "0588d610032541d0b4d3bc9e79da40ce",
       "version_major": 2,
       "version_minor": 0
      },
      "text/plain": [
       "VBox(children=(Text(value='2021020329', description='Game ID'), Button(description='Ping Game', style=ButtonSt…"
      ]
     },
     "metadata": {},
     "output_type": "display_data"
    }
   ],
   "source": [
    "# https://medium.com/@jdchipox/how-to-interact-with-jupyter-33a98686f24e\n",
    "# defining some widgets\n",
    "game_id_input = widgets.Text(\n",
    "       value='2021020329',\n",
    "       description='Game ID', )\n",
    "\n",
    "button = widgets.Button(description='Ping Game')\n",
    "out = widgets.Output()\n",
    "\n",
    "gc = GameClient()\n",
    "\n",
    "def on_button_clicked(_):\n",
    "    # \"linking function with output\"\n",
    "    with out:# what happens when we press the button\n",
    "        clear_output()\n",
    "        print(f'pinging game: {game_id_input.value}')\n",
    "\n",
    "        # process and predict data\n",
    "        df_without_team_name = gc.process_and_predict_data(game_id_input.value)\n",
    "        xG = sc.predict(df_without_team_name)\n",
    "        gc.add_pred_probs_to_df(game_id_input.value, xG)\n",
    "        # display dataframe of sum of xGs\n",
    "        df_sum_xG = gc.get_xG_table(game_id_input.value)\n",
    "        print(df_sum_xG)\n",
    "        \n",
    "        # display new_df of all features\n",
    "        df_all = gc.games_dataframes[game_id_input.value]\n",
    "        print(df_all)\n",
    "        \n",
    "            \n",
    "# linking button and function together using a button's method\n",
    "button.on_click(on_button_clicked)\n",
    "# displaying button and its output together\n",
    "widgets.VBox([game_id_input,button,out])"
   ]
  },
  {
   "cell_type": "code",
   "execution_count": 5,
   "id": "d8398316-2049-4033-9027-28531acd14a8",
   "metadata": {},
   "outputs": [],
   "source": [
    "gc = GameClient()\n",
    "gc_df = gc.process_and_predict_data('2021020329')"
   ]
  },
  {
   "cell_type": "code",
   "execution_count": 7,
   "id": "fff9205d-324f-4c83-8059-55101d15a3d4",
   "metadata": {},
   "outputs": [
    {
     "ename": "AttributeError",
     "evalue": "'NoneType' object has no attribute 'games_dataframes'",
     "output_type": "error",
     "traceback": [
      "\u001b[0;31m---------------------------------------------------------------------------\u001b[0m",
      "\u001b[0;31mAttributeError\u001b[0m                            Traceback (most recent call last)",
      "\u001b[0;32m/var/folders/78/_bhxwdxx1q954czn36w9xx4m0000gn/T/ipykernel_22483/481167201.py\u001b[0m in \u001b[0;36m<module>\u001b[0;34m\u001b[0m\n\u001b[0;32m----> 1\u001b[0;31m \u001b[0mgc_df\u001b[0m\u001b[0;34m.\u001b[0m\u001b[0mgames_dataframes\u001b[0m\u001b[0;34m\u001b[0m\u001b[0;34m\u001b[0m\u001b[0m\n\u001b[0m",
      "\u001b[0;31mAttributeError\u001b[0m: 'NoneType' object has no attribute 'games_dataframes'"
     ]
    }
   ],
   "source": [
    "gc_df.games_dataframes"
   ]
  },
  {
   "cell_type": "code",
   "execution_count": 32,
   "id": "db88fba0-b4d4-4b37-93dd-571966b0f9ee",
   "metadata": {},
   "outputs": [
    {
     "data": {
      "text/plain": [
       "eventIdx                            int64\n",
       "game_id                             int64\n",
       "Game Seconds                        int64\n",
       "Game Period                         int64\n",
       "X-Coordinate                        int64\n",
       "Y-Coordinate                        int64\n",
       "Shot Distance                     float64\n",
       "Shot Angle                        float64\n",
       "Shot Type                           int64\n",
       "Was Net Empty                       int64\n",
       "Last Event Type                     int64\n",
       "Last X-Coordinate                   int64\n",
       "Last Y-Coordinate                   int64\n",
       "Time from Last Event (seconds)      int64\n",
       "Distance from Last Event          float64\n",
       "Is Rebound                           bool\n",
       "Change in Shot Angle              float64\n",
       "Speed                             float64\n",
       "Team Name                          object\n",
       "Is Goal                             int64\n",
       "dtype: object"
      ]
     },
     "execution_count": 32,
     "metadata": {},
     "output_type": "execute_result"
    }
   ],
   "source": [
    "import pandas as pd\n",
    "from sklearn.linear_model import LogisticRegression\n",
    "X = pd.read_csv('2021020329.csv')\n",
    "# p = LogisticRegression.predict_proba(X=X)\n",
    "X.dtypes"
   ]
  },
  {
   "cell_type": "code",
   "execution_count": 27,
   "id": "0e1c3dc6-3198-48dd-b87c-fa6bd1f7ee62",
   "metadata": {},
   "outputs": [
    {
     "data": {
      "text/plain": [
       "dtype('bool')"
      ]
     },
     "execution_count": 27,
     "metadata": {},
     "output_type": "execute_result"
    }
   ],
   "source": [
    "X['Is Rebound'].dtypes"
   ]
  },
  {
   "cell_type": "code",
   "execution_count": 33,
   "id": "474461de-3f19-48c4-9d8e-66233c6747bc",
   "metadata": {},
   "outputs": [],
   "source": [
    "X['Is Rebound'] = X['Is Rebound'].astype('int')"
   ]
  },
  {
   "cell_type": "code",
   "execution_count": 34,
   "id": "585e68db-f0c0-42e3-96ab-2e8c731d7bcd",
   "metadata": {},
   "outputs": [
    {
     "data": {
      "text/plain": [
       "eventIdx                            int64\n",
       "game_id                             int64\n",
       "Game Seconds                        int64\n",
       "Game Period                         int64\n",
       "X-Coordinate                        int64\n",
       "Y-Coordinate                        int64\n",
       "Shot Distance                     float64\n",
       "Shot Angle                        float64\n",
       "Shot Type                           int64\n",
       "Was Net Empty                       int64\n",
       "Last Event Type                     int64\n",
       "Last X-Coordinate                   int64\n",
       "Last Y-Coordinate                   int64\n",
       "Time from Last Event (seconds)      int64\n",
       "Distance from Last Event          float64\n",
       "Is Rebound                          int64\n",
       "Change in Shot Angle              float64\n",
       "Speed                             float64\n",
       "Team Name                          object\n",
       "Is Goal                             int64\n",
       "dtype: object"
      ]
     },
     "execution_count": 34,
     "metadata": {},
     "output_type": "execute_result"
    }
   ],
   "source": [
    "X.dtypes"
   ]
  },
  {
   "cell_type": "code",
   "execution_count": null,
   "id": "7229c029-f485-41c5-8d8e-0976787aca64",
   "metadata": {},
   "outputs": [],
   "source": [
    "# [Resolved] issue 1: \n",
    "# - first ping: ValueError: could not convert string to float: 'False'\n",
    "# - solution: True -> 1, False -> 0\n",
    "\n",
    "# issue 2:\n",
    "# - when it predicts using the default model (Decision Tree): ValueError: X has 17 features, but DecisionTreeClassifier is expecting 18 features as input.\n",
    "\n",
    "# issue 3:\n",
    "# - ping existing games: 'eventIdx' KeyError"
   ]
  },
  {
   "cell_type": "code",
   "execution_count": 6,
   "id": "d669b1b0-1461-45ff-83e3-eaae0b543268",
   "metadata": {},
   "outputs": [
    {
     "data": {
      "text/html": [
       "<div>\n",
       "<style scoped>\n",
       "    .dataframe tbody tr th:only-of-type {\n",
       "        vertical-align: middle;\n",
       "    }\n",
       "\n",
       "    .dataframe tbody tr th {\n",
       "        vertical-align: top;\n",
       "    }\n",
       "\n",
       "    .dataframe thead th {\n",
       "        text-align: right;\n",
       "    }\n",
       "</style>\n",
       "<table border=\"1\" class=\"dataframe\">\n",
       "  <thead>\n",
       "    <tr style=\"text-align: right;\">\n",
       "      <th></th>\n",
       "      <th>eventIdx</th>\n",
       "      <th>game_id</th>\n",
       "      <th>Game Seconds</th>\n",
       "      <th>Game Period</th>\n",
       "      <th>X-Coordinate</th>\n",
       "      <th>Y-Coordinate</th>\n",
       "      <th>Shot Distance</th>\n",
       "      <th>Shot Angle</th>\n",
       "      <th>Shot Type</th>\n",
       "      <th>Was Net Empty</th>\n",
       "      <th>Last Event Type</th>\n",
       "      <th>Last X-Coordinate</th>\n",
       "      <th>Last Y-Coordinate</th>\n",
       "      <th>Time from Last Event (seconds)</th>\n",
       "      <th>Distance from Last Event</th>\n",
       "      <th>Is Rebound</th>\n",
       "      <th>Change in Shot Angle</th>\n",
       "      <th>Speed</th>\n",
       "      <th>Is Goal</th>\n",
       "    </tr>\n",
       "  </thead>\n",
       "  <tbody>\n",
       "    <tr>\n",
       "      <th>0</th>\n",
       "      <td>5</td>\n",
       "      <td>2019020910</td>\n",
       "      <td>18</td>\n",
       "      <td>1</td>\n",
       "      <td>50</td>\n",
       "      <td>38</td>\n",
       "      <td>54.451814</td>\n",
       "      <td>134.255941</td>\n",
       "      <td>0</td>\n",
       "      <td>0</td>\n",
       "      <td>0</td>\n",
       "      <td>81</td>\n",
       "      <td>-7</td>\n",
       "      <td>3</td>\n",
       "      <td>54.644304</td>\n",
       "      <td>True</td>\n",
       "      <td>85.441866</td>\n",
       "      <td>18.214768</td>\n",
       "      <td>0</td>\n",
       "    </tr>\n",
       "    <tr>\n",
       "      <th>1</th>\n",
       "      <td>6</td>\n",
       "      <td>2019020910</td>\n",
       "      <td>34</td>\n",
       "      <td>1</td>\n",
       "      <td>32</td>\n",
       "      <td>-32</td>\n",
       "      <td>65.368188</td>\n",
       "      <td>60.689993</td>\n",
       "      <td>0</td>\n",
       "      <td>0</td>\n",
       "      <td>0</td>\n",
       "      <td>50</td>\n",
       "      <td>38</td>\n",
       "      <td>16</td>\n",
       "      <td>72.277244</td>\n",
       "      <td>True</td>\n",
       "      <td>-73.565948</td>\n",
       "      <td>4.517328</td>\n",
       "      <td>0</td>\n",
       "    </tr>\n",
       "    <tr>\n",
       "      <th>2</th>\n",
       "      <td>8</td>\n",
       "      <td>2019020910</td>\n",
       "      <td>71</td>\n",
       "      <td>1</td>\n",
       "      <td>59</td>\n",
       "      <td>29</td>\n",
       "      <td>41.725292</td>\n",
       "      <td>134.028978</td>\n",
       "      <td>0</td>\n",
       "      <td>0</td>\n",
       "      <td>1</td>\n",
       "      <td>-81</td>\n",
       "      <td>37</td>\n",
       "      <td>6</td>\n",
       "      <td>140.228385</td>\n",
       "      <td>False</td>\n",
       "      <td>0.000000</td>\n",
       "      <td>23.371398</td>\n",
       "      <td>0</td>\n",
       "    </tr>\n",
       "    <tr>\n",
       "      <th>3</th>\n",
       "      <td>10</td>\n",
       "      <td>2019020910</td>\n",
       "      <td>103</td>\n",
       "      <td>1</td>\n",
       "      <td>33</td>\n",
       "      <td>-20</td>\n",
       "      <td>59.464275</td>\n",
       "      <td>70.346176</td>\n",
       "      <td>0</td>\n",
       "      <td>0</td>\n",
       "      <td>2</td>\n",
       "      <td>92</td>\n",
       "      <td>-29</td>\n",
       "      <td>1</td>\n",
       "      <td>59.682493</td>\n",
       "      <td>False</td>\n",
       "      <td>0.000000</td>\n",
       "      <td>59.682493</td>\n",
       "      <td>0</td>\n",
       "    </tr>\n",
       "    <tr>\n",
       "      <th>4</th>\n",
       "      <td>18</td>\n",
       "      <td>2019020910</td>\n",
       "      <td>144</td>\n",
       "      <td>1</td>\n",
       "      <td>65</td>\n",
       "      <td>17</td>\n",
       "      <td>29.410882</td>\n",
       "      <td>125.311213</td>\n",
       "      <td>0</td>\n",
       "      <td>0</td>\n",
       "      <td>3</td>\n",
       "      <td>69</td>\n",
       "      <td>22</td>\n",
       "      <td>18</td>\n",
       "      <td>6.403124</td>\n",
       "      <td>False</td>\n",
       "      <td>0.000000</td>\n",
       "      <td>0.355729</td>\n",
       "      <td>0</td>\n",
       "    </tr>\n",
       "  </tbody>\n",
       "</table>\n",
       "</div>"
      ],
      "text/plain": [
       "   eventIdx     game_id  Game Seconds  Game Period  X-Coordinate  \\\n",
       "0         5  2019020910            18            1            50   \n",
       "1         6  2019020910            34            1            32   \n",
       "2         8  2019020910            71            1            59   \n",
       "3        10  2019020910           103            1            33   \n",
       "4        18  2019020910           144            1            65   \n",
       "\n",
       "   Y-Coordinate  Shot Distance  Shot Angle  Shot Type  Was Net Empty  \\\n",
       "0            38      54.451814  134.255941          0              0   \n",
       "1           -32      65.368188   60.689993          0              0   \n",
       "2            29      41.725292  134.028978          0              0   \n",
       "3           -20      59.464275   70.346176          0              0   \n",
       "4            17      29.410882  125.311213          0              0   \n",
       "\n",
       "   Last Event Type  Last X-Coordinate  Last Y-Coordinate  \\\n",
       "0                0                 81                 -7   \n",
       "1                0                 50                 38   \n",
       "2                1                -81                 37   \n",
       "3                2                 92                -29   \n",
       "4                3                 69                 22   \n",
       "\n",
       "   Time from Last Event (seconds)  Distance from Last Event  Is Rebound  \\\n",
       "0                               3                 54.644304        True   \n",
       "1                              16                 72.277244        True   \n",
       "2                               6                140.228385       False   \n",
       "3                               1                 59.682493       False   \n",
       "4                              18                  6.403124       False   \n",
       "\n",
       "   Change in Shot Angle      Speed  Is Goal  \n",
       "0             85.441866  18.214768        0  \n",
       "1            -73.565948   4.517328        0  \n",
       "2              0.000000  23.371398        0  \n",
       "3              0.000000  59.682493        0  \n",
       "4              0.000000   0.355729        0  "
      ]
     },
     "execution_count": 6,
     "metadata": {},
     "output_type": "execute_result"
    }
   ],
   "source": [
    "import pandas as pd\n",
    "\n",
    "# features in Milestone 2 Q4 df\n",
    "m2_q4_df = pd.read_csv('~/Documents/IFT6758_M2_CSV_data/test_data_categorical.csv')\n",
    "m2_q4_df.head()"
   ]
  },
  {
   "cell_type": "code",
   "execution_count": 9,
   "id": "047df229-992c-43cf-8f04-58c60f1aa428",
   "metadata": {},
   "outputs": [
    {
     "data": {
      "text/plain": [
       "['eventIdx',\n",
       " 'game_id',\n",
       " 'Game Seconds',\n",
       " 'Game Period',\n",
       " 'X-Coordinate',\n",
       " 'Y-Coordinate',\n",
       " 'Shot Distance',\n",
       " 'Shot Angle',\n",
       " 'Shot Type',\n",
       " 'Was Net Empty',\n",
       " 'Last Event Type',\n",
       " 'Last X-Coordinate',\n",
       " 'Last Y-Coordinate',\n",
       " 'Time from Last Event (seconds)',\n",
       " 'Distance from Last Event',\n",
       " 'Is Rebound',\n",
       " 'Change in Shot Angle',\n",
       " 'Speed',\n",
       " 'Is Goal']"
      ]
     },
     "execution_count": 9,
     "metadata": {},
     "output_type": "execute_result"
    }
   ],
   "source": [
    "all_features = list(m2_q4_df.columns)\n",
    "all_features"
   ]
  },
  {
   "cell_type": "code",
   "execution_count": null,
   "id": "c26987dd-7dfe-4bc7-b81e-b5bfb20c0948",
   "metadata": {},
   "outputs": [],
   "source": []
  }
 ],
 "metadata": {
  "kernelspec": {
   "display_name": "Python 3 (ipykernel)",
   "language": "python",
   "name": "python3"
  },
  "language_info": {
   "codemirror_mode": {
    "name": "ipython",
    "version": 3
   },
   "file_extension": ".py",
   "mimetype": "text/x-python",
   "name": "python",
   "nbconvert_exporter": "python",
   "pygments_lexer": "ipython3",
   "version": "3.9.7"
  }
 },
 "nbformat": 4,
 "nbformat_minor": 5
}
