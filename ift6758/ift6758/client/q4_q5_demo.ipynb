{
 "cells": [
  {
   "cell_type": "code",
   "execution_count": 1,
   "id": "8047babd-f453-428f-bedb-dd8f69cdad84",
   "metadata": {
    "tags": []
   },
   "outputs": [],
   "source": [
    "from serving_client import ServingClient\n",
    "from game_client import GameClient\n",
    "\n",
    "import ipywidgets as widgets\n",
    "from IPython.display import display, clear_output, Markdown\n",
    "from prettytable import PrettyTable\n",
    "import numpy as np"
   ]
  },
  {
   "cell_type": "code",
   "execution_count": 3,
   "id": "c2630277-21c2-4613-a337-34fa77c63a85",
   "metadata": {},
   "outputs": [],
   "source": [
    "# sc = ServingClient(ip='serving') # port = 8890\n",
    "sc = ServingClient()\n",
    "sc.logs()"
   ]
  },
  {
   "cell_type": "markdown",
   "id": "3fb041de-dbbb-4b8d-a46d-2a0f6ae2cdb6",
   "metadata": {},
   "source": [
    "## Download model"
   ]
  },
  {
   "cell_type": "markdown",
   "id": "8dc84e5c-f746-45be-b570-aad9b550d05b",
   "metadata": {},
   "source": [
    "### Hello David: please use below two models\n",
    "- (default model):{'workspace': 'xiaoxin-zhou', \\\n",
    "                    'model': 'decision-tree-approach-2', \\ \n",
    "                    'version': '1.0.0'}\n",
    "- (XGBoost model):{'workspace': 'xiaoxin-zhou', \\\n",
    "                    'model': 'xgboost-5-2', \\ \n",
    "                    'version': '1.0.3'}"
   ]
  },
  {
   "cell_type": "code",
   "execution_count": 4,
   "id": "ff0a2f94-c657-4670-a051-ca1917d9c405",
   "metadata": {},
   "outputs": [
    {
     "data": {
      "application/vnd.jupyter.widget-view+json": {
       "model_id": "f199d17aff9e4c63bcd6c8f99e595279",
       "version_major": 2,
       "version_minor": 0
      },
      "text/plain": [
       "VBox(children=(Text(value='', placeholder='Workspace'), Text(value='', placeholder='Model'), Text(value='', pl…"
      ]
     },
     "metadata": {},
     "output_type": "display_data"
    }
   ],
   "source": [
    "workspace = widgets.Text(placeholder='Workspace')\n",
    "model = widgets.Text(placeholder='Model')\n",
    "version = widgets.Text(placeholder='Version')\n",
    "\n",
    "button_send = widgets.Button(\n",
    "                description='Download model',\n",
    "                tooltip='Send',\n",
    "                style={'description_width': 'initial'}\n",
    "            )\n",
    "\n",
    "output = widgets.Output()\n",
    "def on_button_clicked(event):\n",
    "    with output:\n",
    "        clear_output()\n",
    "        print(\"Model information: \")\n",
    "        print(f\"Model: {model.value}\\nVersion: {version.value}\")\n",
    "\n",
    "        try:\n",
    "            sc.download_registry_model(workspace='xiaoxin-zhou',\\\n",
    "                                       model=model.value,\\\n",
    "                                       version=version.value)\n",
    "        except Exception as e:\n",
    "            print(f\"Failed to download model{model.value} with version {version.value}.\\nError:{e}\")\n",
    "        print(f\"Successfully downloaded model {model.value} with version {version.value}.\")\n",
    "        \n",
    "        \n",
    "button_send.on_click(on_button_clicked)\n",
    "vbox_result = widgets.VBox([workspace, model, version, button_send, output])\n",
    "vbox_result"
   ]
  },
  {
   "cell_type": "markdown",
   "id": "8f4bf8a0-0871-4ccf-939e-09fd57e2d2d0",
   "metadata": {},
   "source": [
    "## Ping Game"
   ]
  },
  {
   "cell_type": "code",
   "execution_count": 5,
   "id": "35034003-c300-4822-be85-534b0c5fe44e",
   "metadata": {},
   "outputs": [
    {
     "data": {
      "application/vnd.jupyter.widget-view+json": {
       "model_id": "c2a96f9a652947c7b75819c38dd7ad85",
       "version_major": 2,
       "version_minor": 0
      },
      "text/plain": [
       "VBox(children=(Text(value='2021020329', description='Game ID'), Button(description='Ping Game', style=ButtonSt…"
      ]
     },
     "metadata": {},
     "output_type": "display_data"
    }
   ],
   "source": [
    "# copied from m3_q4_ping_game.ipynb\n",
    "\n",
    "game_id_input = widgets.Text(\n",
    "       value='2021020329',\n",
    "       description='Game ID', )\n",
    "\n",
    "button = widgets.Button(description='Ping Game')\n",
    "out = widgets.Output()\n",
    "\n",
    "gc = GameClient()\n",
    "\n",
    "def on_button_clicked(_):\n",
    "    # \"linking function with output\"\n",
    "    with out:# what happens when we press the button\n",
    "        clear_output()\n",
    "        \n",
    "        int_game_id = int(game_id_input.value)\n",
    "        \n",
    "        print(f'pinging game: {game_id_input.value}')\n",
    "\n",
    "        # process and predict data\n",
    "        df_without_team_name = gc.process_and_predict_data(int_game_id)\n",
    "        print(f'df types: {df_without_team_name.dtypes}')\n",
    "        xG = sc.predict(df_without_team_name)\n",
    "\n",
    "        gc.add_pred_probs_to_df(int_game_id, xG)\n",
    "        # display dataframe of sum of xGs\n",
    "        df_sum_xG = gc.get_xG_table(int_game_id)\n",
    "        print(df_sum_xG)\n",
    "        \n",
    "        # display new_df of all features\n",
    "        df_all = gc.games_dataframes[int_game_id]\n",
    "        print(df_all)\n",
    "        \n",
    "            \n",
    "# linking button and function together using a button's method\n",
    "button.on_click(on_button_clicked)\n",
    "\n",
    "# displaying button and its output together\n",
    "widgets.VBox([game_id_input,button,out])"
   ]
  },
  {
   "cell_type": "code",
   "execution_count": null,
   "id": "797bf8a9-d663-4b77-a0d6-395cca6e2367",
   "metadata": {},
   "outputs": [],
   "source": []
  }
 ],
 "metadata": {
  "kernelspec": {
   "display_name": "Python 3 (ipykernel)",
   "language": "python",
   "name": "python3"
  },
  "language_info": {
   "codemirror_mode": {
    "name": "ipython",
    "version": 3
   },
   "file_extension": ".py",
   "mimetype": "text/x-python",
   "name": "python",
   "nbconvert_exporter": "python",
   "pygments_lexer": "ipython3",
   "version": "3.9.7"
  }
 },
 "nbformat": 4,
 "nbformat_minor": 5
}
