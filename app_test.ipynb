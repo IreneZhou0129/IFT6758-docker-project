{
 "cells": [
  {
   "cell_type": "code",
   "execution_count": 12,
   "id": "1eea7463-7cf2-413e-9537-485f90978ce4",
   "metadata": {},
   "outputs": [
    {
     "name": "stdout",
     "output_type": "stream",
     "text": [
      "1.5.0\n"
     ]
    }
   ],
   "source": [
    "import pandas as pd\n",
    "import numpy as np\n",
    "import requests\n",
    "import json\n",
    "import sys\n",
    "import os\n",
    "import pickle\n",
    "import xgboost as xgb \n",
    "print(xgb.__version__)"
   ]
  },
  {
   "cell_type": "code",
   "execution_count": 2,
   "id": "c216c34a-11b4-4cee-a9c2-ef40934a2696",
   "metadata": {},
   "outputs": [],
   "source": [
    "from config_data import df, api, \\\n",
    "                        comet_config, \\\n",
    "                        filename_dict, \\\n",
    "                        features_dict"
   ]
  },
  {
   "cell_type": "code",
   "execution_count": 3,
   "id": "4363d160-b885-4453-9de0-9993a43fc05d",
   "metadata": {},
   "outputs": [
    {
     "name": "stdout",
     "output_type": "stream",
     "text": [
      "{'response': [[0.9221800135286895, 0.0778199864713105], [0.8687570775153671, 0.1312429224846329], [0.8664541598372335, 0.13354584016276647], [0.8608866225555861, 0.1391133774444139], [0.9199142931355345, 0.0800857068644655]]}\n"
     ]
    }
   ],
   "source": [
    "# Test '/predict'\n",
    "predicted_probs = requests.post(\n",
    "    \"http://127.0.0.1:5000/predict\", \n",
    "    json=json.loads(df.iloc[0:5].to_json())\n",
    ")\n",
    "print(predicted_probs.json())"
   ]
  },
  {
   "cell_type": "markdown",
   "id": "b259120b-f556-449a-9895-a48d779b8763",
   "metadata": {},
   "source": [
    "## XGBoost Q5-2 Hyperparameter Tuning"
   ]
  },
  {
   "cell_type": "code",
   "execution_count": 26,
   "id": "99bed80b-8557-4c07-b37d-0f0108228df3",
   "metadata": {
    "tags": []
   },
   "outputs": [],
   "source": [
    "model1 = 'xgboost-5-2'\n",
    "version1 = '1.0.3'\n",
    "\n",
    "request1 = requests.post(\n",
    "    \"http://127.0.0.1:5000/download_registry_model\", \n",
    "    json = {'workspace': 'xiaoxin-zhou', 'model': model1, 'version': version1}\n",
    ")"
   ]
  },
  {
   "cell_type": "markdown",
   "id": "8d159338-62e3-40f3-9256-a1a4f4c1bfa1",
   "metadata": {},
   "source": [
    "```\n",
    "...\n",
    "[2021-12-17 16:40:35,680] INFO in app: ---------------------running download_registry_model()---------------------\n",
    "[2021-12-17 16:40:35,681] INFO in app: {'workspace': 'xiaoxin-zhou', 'model': 'xgboost-5-2', 'version': '1.0.3'}\n",
    "[2021-12-17 16:40:35,682] INFO in app: Model q5_2_tuned.json is already downloaded, loading ...\n",
    "[2021-12-17 16:40:35,771] INFO in app: Succesfully loaded default model q5_2_tuned.json\n",
    "```"
   ]
  },
  {
   "cell_type": "code",
   "execution_count": 27,
   "id": "0ce507ff-8d06-4e94-9c94-5bb377565c09",
   "metadata": {
    "tags": []
   },
   "outputs": [
    {
     "name": "stdout",
     "output_type": "stream",
     "text": [
      "{'response': [[0.9991273283958435, 0.0008726531523279846],\n",
      "              [0.72276371717453, 0.27723628282546997],\n",
      "              [0.9218897819519043, 0.0781102254986763],\n",
      "              [0.9532418251037598, 0.04675816744565964],\n",
      "              [0.9751328229904175, 0.02486715465784073]]}\n"
     ]
    }
   ],
   "source": [
    "request1 = requests.post(\n",
    "    \"http://127.0.0.1:5000/predict\", \n",
    "    json=json.loads(df.iloc[0:5].to_json())\n",
    ")\n",
    "import pprint\n",
    "pprint.pprint(request1.json())"
   ]
  },
  {
   "cell_type": "markdown",
   "id": "a42e8660-f456-4d32-b8f1-9066b5e89f45",
   "metadata": {},
   "source": [
    "## XGBoost Q5-3 VarianceThreshold"
   ]
  },
  {
   "cell_type": "code",
   "execution_count": 70,
   "id": "c4b2573c-2f47-4c13-8917-8a4cee896ede",
   "metadata": {},
   "outputs": [],
   "source": [
    "model2 = 'xgboost-model-var-threshold'\n",
    "version2 = '1.0.1'\n",
    "\n",
    "request2 = requests.post(\n",
    "    \"http://127.0.0.1:5000/download_registry_model\", \n",
    "    json = {'workspace': 'xiaoxin-zhou', 'model': model2, 'version': version2}\n",
    ")\n",
    "\n"
   ]
  },
  {
   "cell_type": "markdown",
   "id": "5e463d7f-6468-46e8-9ceb-669397c9dd95",
   "metadata": {},
   "source": [
    "```\n",
    "...\n",
    "[2021-12-17 16:47:34,128] INFO in app: ---------------------running download_registry_model()---------------------\n",
    "[2021-12-17 16:47:34,129] INFO in app: {'workspace': 'xiaoxin-zhou', 'model': 'xgboost-model-var-threshold', 'version': '1.0.1'}\n",
    "[2021-12-17 16:47:34,130] INFO in app: q5_3_var_threshold.json doesn't exist, downloading ...\n",
    "COMET INFO: Downloading registry model 'xgboost-model-var-threshold', version '1.0.1', stage None from workspace 'xiaoxin-zhou'...\n",
    "COMET INFO: Unzipping model to '/Users/xiaoxinzhou/Documents/2021-Fall/UdeM/IFT6758/IFT6758-docker-project' ...\n",
    "COMET INFO: done!\n",
    "[2021-12-17 16:47:37,782] INFO in app: Succesfully downloaded model name: q5_3_var_threshold.json\n",
    "[2021-12-17 16:47:37,828] INFO in app: Succesfully loaded default model q5_3_var_threshold.json\n",
    "```"
   ]
  },
  {
   "cell_type": "code",
   "execution_count": 71,
   "id": "7e1bda5c-3bf0-4fee-b6a4-0f6a79753f8d",
   "metadata": {
    "tags": []
   },
   "outputs": [
    {
     "ename": "JSONDecodeError",
     "evalue": "Expecting value: line 1 column 1 (char 0)",
     "output_type": "error",
     "traceback": [
      "\u001b[0;31m---------------------------------------------------------------------------\u001b[0m",
      "\u001b[0;31mJSONDecodeError\u001b[0m                           Traceback (most recent call last)",
      "\u001b[0;32m/var/folders/78/_bhxwdxx1q954czn36w9xx4m0000gn/T/ipykernel_30584/96627502.py\u001b[0m in \u001b[0;36m<module>\u001b[0;34m\u001b[0m\n\u001b[1;32m      4\u001b[0m )\n\u001b[1;32m      5\u001b[0m \u001b[0;32mimport\u001b[0m \u001b[0mpprint\u001b[0m\u001b[0;34m\u001b[0m\u001b[0;34m\u001b[0m\u001b[0m\n\u001b[0;32m----> 6\u001b[0;31m \u001b[0mpprint\u001b[0m\u001b[0;34m.\u001b[0m\u001b[0mpprint\u001b[0m\u001b[0;34m(\u001b[0m\u001b[0mrequest2\u001b[0m\u001b[0;34m.\u001b[0m\u001b[0mjson\u001b[0m\u001b[0;34m(\u001b[0m\u001b[0;34m)\u001b[0m\u001b[0;34m)\u001b[0m\u001b[0;34m\u001b[0m\u001b[0;34m\u001b[0m\u001b[0m\n\u001b[0m",
      "\u001b[0;32m/usr/local/Caskroom/miniforge/base/envs/ift6758-conda-env/lib/python3.9/site-packages/requests/models.py\u001b[0m in \u001b[0;36mjson\u001b[0;34m(self, **kwargs)\u001b[0m\n\u001b[1;32m    908\u001b[0m                     \u001b[0;31m# used.\u001b[0m\u001b[0;34m\u001b[0m\u001b[0;34m\u001b[0m\u001b[0m\n\u001b[1;32m    909\u001b[0m                     \u001b[0;32mpass\u001b[0m\u001b[0;34m\u001b[0m\u001b[0;34m\u001b[0m\u001b[0m\n\u001b[0;32m--> 910\u001b[0;31m         \u001b[0;32mreturn\u001b[0m \u001b[0mcomplexjson\u001b[0m\u001b[0;34m.\u001b[0m\u001b[0mloads\u001b[0m\u001b[0;34m(\u001b[0m\u001b[0mself\u001b[0m\u001b[0;34m.\u001b[0m\u001b[0mtext\u001b[0m\u001b[0;34m,\u001b[0m \u001b[0;34m**\u001b[0m\u001b[0mkwargs\u001b[0m\u001b[0;34m)\u001b[0m\u001b[0;34m\u001b[0m\u001b[0;34m\u001b[0m\u001b[0m\n\u001b[0m\u001b[1;32m    911\u001b[0m \u001b[0;34m\u001b[0m\u001b[0m\n\u001b[1;32m    912\u001b[0m     \u001b[0;34m@\u001b[0m\u001b[0mproperty\u001b[0m\u001b[0;34m\u001b[0m\u001b[0;34m\u001b[0m\u001b[0m\n",
      "\u001b[0;32m/usr/local/Caskroom/miniforge/base/envs/ift6758-conda-env/lib/python3.9/json/__init__.py\u001b[0m in \u001b[0;36mloads\u001b[0;34m(s, cls, object_hook, parse_float, parse_int, parse_constant, object_pairs_hook, **kw)\u001b[0m\n\u001b[1;32m    344\u001b[0m             \u001b[0mparse_int\u001b[0m \u001b[0;32mis\u001b[0m \u001b[0;32mNone\u001b[0m \u001b[0;32mand\u001b[0m \u001b[0mparse_float\u001b[0m \u001b[0;32mis\u001b[0m \u001b[0;32mNone\u001b[0m \u001b[0;32mand\u001b[0m\u001b[0;34m\u001b[0m\u001b[0;34m\u001b[0m\u001b[0m\n\u001b[1;32m    345\u001b[0m             parse_constant is None and object_pairs_hook is None and not kw):\n\u001b[0;32m--> 346\u001b[0;31m         \u001b[0;32mreturn\u001b[0m \u001b[0m_default_decoder\u001b[0m\u001b[0;34m.\u001b[0m\u001b[0mdecode\u001b[0m\u001b[0;34m(\u001b[0m\u001b[0ms\u001b[0m\u001b[0;34m)\u001b[0m\u001b[0;34m\u001b[0m\u001b[0;34m\u001b[0m\u001b[0m\n\u001b[0m\u001b[1;32m    347\u001b[0m     \u001b[0;32mif\u001b[0m \u001b[0mcls\u001b[0m \u001b[0;32mis\u001b[0m \u001b[0;32mNone\u001b[0m\u001b[0;34m:\u001b[0m\u001b[0;34m\u001b[0m\u001b[0;34m\u001b[0m\u001b[0m\n\u001b[1;32m    348\u001b[0m         \u001b[0mcls\u001b[0m \u001b[0;34m=\u001b[0m \u001b[0mJSONDecoder\u001b[0m\u001b[0;34m\u001b[0m\u001b[0;34m\u001b[0m\u001b[0m\n",
      "\u001b[0;32m/usr/local/Caskroom/miniforge/base/envs/ift6758-conda-env/lib/python3.9/json/decoder.py\u001b[0m in \u001b[0;36mdecode\u001b[0;34m(self, s, _w)\u001b[0m\n\u001b[1;32m    335\u001b[0m \u001b[0;34m\u001b[0m\u001b[0m\n\u001b[1;32m    336\u001b[0m         \"\"\"\n\u001b[0;32m--> 337\u001b[0;31m         \u001b[0mobj\u001b[0m\u001b[0;34m,\u001b[0m \u001b[0mend\u001b[0m \u001b[0;34m=\u001b[0m \u001b[0mself\u001b[0m\u001b[0;34m.\u001b[0m\u001b[0mraw_decode\u001b[0m\u001b[0;34m(\u001b[0m\u001b[0ms\u001b[0m\u001b[0;34m,\u001b[0m \u001b[0midx\u001b[0m\u001b[0;34m=\u001b[0m\u001b[0m_w\u001b[0m\u001b[0;34m(\u001b[0m\u001b[0ms\u001b[0m\u001b[0;34m,\u001b[0m \u001b[0;36m0\u001b[0m\u001b[0;34m)\u001b[0m\u001b[0;34m.\u001b[0m\u001b[0mend\u001b[0m\u001b[0;34m(\u001b[0m\u001b[0;34m)\u001b[0m\u001b[0;34m)\u001b[0m\u001b[0;34m\u001b[0m\u001b[0;34m\u001b[0m\u001b[0m\n\u001b[0m\u001b[1;32m    338\u001b[0m         \u001b[0mend\u001b[0m \u001b[0;34m=\u001b[0m \u001b[0m_w\u001b[0m\u001b[0;34m(\u001b[0m\u001b[0ms\u001b[0m\u001b[0;34m,\u001b[0m \u001b[0mend\u001b[0m\u001b[0;34m)\u001b[0m\u001b[0;34m.\u001b[0m\u001b[0mend\u001b[0m\u001b[0;34m(\u001b[0m\u001b[0;34m)\u001b[0m\u001b[0;34m\u001b[0m\u001b[0;34m\u001b[0m\u001b[0m\n\u001b[1;32m    339\u001b[0m         \u001b[0;32mif\u001b[0m \u001b[0mend\u001b[0m \u001b[0;34m!=\u001b[0m \u001b[0mlen\u001b[0m\u001b[0;34m(\u001b[0m\u001b[0ms\u001b[0m\u001b[0;34m)\u001b[0m\u001b[0;34m:\u001b[0m\u001b[0;34m\u001b[0m\u001b[0;34m\u001b[0m\u001b[0m\n",
      "\u001b[0;32m/usr/local/Caskroom/miniforge/base/envs/ift6758-conda-env/lib/python3.9/json/decoder.py\u001b[0m in \u001b[0;36mraw_decode\u001b[0;34m(self, s, idx)\u001b[0m\n\u001b[1;32m    353\u001b[0m             \u001b[0mobj\u001b[0m\u001b[0;34m,\u001b[0m \u001b[0mend\u001b[0m \u001b[0;34m=\u001b[0m \u001b[0mself\u001b[0m\u001b[0;34m.\u001b[0m\u001b[0mscan_once\u001b[0m\u001b[0;34m(\u001b[0m\u001b[0ms\u001b[0m\u001b[0;34m,\u001b[0m \u001b[0midx\u001b[0m\u001b[0;34m)\u001b[0m\u001b[0;34m\u001b[0m\u001b[0;34m\u001b[0m\u001b[0m\n\u001b[1;32m    354\u001b[0m         \u001b[0;32mexcept\u001b[0m \u001b[0mStopIteration\u001b[0m \u001b[0;32mas\u001b[0m \u001b[0merr\u001b[0m\u001b[0;34m:\u001b[0m\u001b[0;34m\u001b[0m\u001b[0;34m\u001b[0m\u001b[0m\n\u001b[0;32m--> 355\u001b[0;31m             \u001b[0;32mraise\u001b[0m \u001b[0mJSONDecodeError\u001b[0m\u001b[0;34m(\u001b[0m\u001b[0;34m\"Expecting value\"\u001b[0m\u001b[0;34m,\u001b[0m \u001b[0ms\u001b[0m\u001b[0;34m,\u001b[0m \u001b[0merr\u001b[0m\u001b[0;34m.\u001b[0m\u001b[0mvalue\u001b[0m\u001b[0;34m)\u001b[0m \u001b[0;32mfrom\u001b[0m \u001b[0;32mNone\u001b[0m\u001b[0;34m\u001b[0m\u001b[0;34m\u001b[0m\u001b[0m\n\u001b[0m\u001b[1;32m    356\u001b[0m         \u001b[0;32mreturn\u001b[0m \u001b[0mobj\u001b[0m\u001b[0;34m,\u001b[0m \u001b[0mend\u001b[0m\u001b[0;34m\u001b[0m\u001b[0;34m\u001b[0m\u001b[0m\n",
      "\u001b[0;31mJSONDecodeError\u001b[0m: Expecting value: line 1 column 1 (char 0)"
     ]
    }
   ],
   "source": [
    "request2 = requests.post(\n",
    "    \"http://127.0.0.1:5000/predict\", \n",
    "    json=json.loads(df.iloc[0:5].to_json())\n",
    ")\n",
    "import pprint\n",
    "pprint.pprint(request2.json())"
   ]
  },
  {
   "cell_type": "code",
   "execution_count": 37,
   "id": "73cf57d3-308a-4b97-b768-e09a5b1e95b9",
   "metadata": {},
   "outputs": [],
   "source": [
    "f0 = 'ift6758/ift6758/data/q5_2_tuned.json'\n",
    "f1 = 'ift6758/ift6758/data/q5_3_var_threshold.json'\n",
    "m = xgb.XGBClassifier()\n",
    "m.load_model(f0)"
   ]
  },
  {
   "cell_type": "code",
   "execution_count": 38,
   "id": "b1753d1a-1c1b-474b-8e07-63616dd7579d",
   "metadata": {
    "collapsed": true,
    "jupyter": {
     "outputs_hidden": true
    },
    "tags": []
   },
   "outputs": [
    {
     "ename": "XGBoostError",
     "evalue": "[17:13:33] /Users/runner/miniforge3/conda-bld/xgboost-split_1634712680264/work/src/common/io.cc:102: Opening ift6758/ift6758/data/q5_3_var_threshold.json failed: No such file or directory\nStack trace:\n  [bt] (0) 1   libxgboost.dylib                    0x000000016c147c74 dmlc::LogMessageFatal::~LogMessageFatal() + 116\n  [bt] (1) 2   libxgboost.dylib                    0x000000016c16e6b8 xgboost::common::LoadSequentialFile(std::__1::basic_string<char, std::__1::char_traits<char>, std::__1::allocator<char> >, bool) + 840\n  [bt] (2) 3   libxgboost.dylib                    0x000000016c151167 XGBoosterLoadModel + 551\n  [bt] (3) 4   libffi.8.dylib                      0x000000010bd87d92 ffi_call_unix64 + 82\n  [bt] (4) 5   ???                                 0x0000000305a52d40 0x0 + 12979612992\n\n",
     "output_type": "error",
     "traceback": [
      "\u001b[0;31m---------------------------------------------------------------------------\u001b[0m",
      "\u001b[0;31mXGBoostError\u001b[0m                              Traceback (most recent call last)",
      "\u001b[0;32m/var/folders/78/_bhxwdxx1q954czn36w9xx4m0000gn/T/ipykernel_30584/299336219.py\u001b[0m in \u001b[0;36m<module>\u001b[0;34m\u001b[0m\n\u001b[0;32m----> 1\u001b[0;31m \u001b[0mm\u001b[0m\u001b[0;34m.\u001b[0m\u001b[0mload_model\u001b[0m\u001b[0;34m(\u001b[0m\u001b[0mf1\u001b[0m\u001b[0;34m)\u001b[0m\u001b[0;34m\u001b[0m\u001b[0;34m\u001b[0m\u001b[0m\n\u001b[0m",
      "\u001b[0;32m/usr/local/Caskroom/miniforge/base/envs/ift6758-conda-env/lib/python3.9/site-packages/xgboost/sklearn.py\u001b[0m in \u001b[0;36mload_model\u001b[0;34m(self, fname)\u001b[0m\n\u001b[1;32m    597\u001b[0m         \u001b[0;32mif\u001b[0m \u001b[0;32mnot\u001b[0m \u001b[0mhasattr\u001b[0m\u001b[0;34m(\u001b[0m\u001b[0mself\u001b[0m\u001b[0;34m,\u001b[0m \u001b[0;34m'_Booster'\u001b[0m\u001b[0;34m)\u001b[0m\u001b[0;34m:\u001b[0m\u001b[0;34m\u001b[0m\u001b[0;34m\u001b[0m\u001b[0m\n\u001b[1;32m    598\u001b[0m             \u001b[0mself\u001b[0m\u001b[0;34m.\u001b[0m\u001b[0m_Booster\u001b[0m \u001b[0;34m=\u001b[0m \u001b[0mBooster\u001b[0m\u001b[0;34m(\u001b[0m\u001b[0;34m{\u001b[0m\u001b[0;34m'n_jobs'\u001b[0m\u001b[0;34m:\u001b[0m \u001b[0mself\u001b[0m\u001b[0;34m.\u001b[0m\u001b[0mn_jobs\u001b[0m\u001b[0;34m}\u001b[0m\u001b[0;34m)\u001b[0m\u001b[0;34m\u001b[0m\u001b[0;34m\u001b[0m\u001b[0m\n\u001b[0;32m--> 599\u001b[0;31m         \u001b[0mself\u001b[0m\u001b[0;34m.\u001b[0m\u001b[0mget_booster\u001b[0m\u001b[0;34m(\u001b[0m\u001b[0;34m)\u001b[0m\u001b[0;34m.\u001b[0m\u001b[0mload_model\u001b[0m\u001b[0;34m(\u001b[0m\u001b[0mfname\u001b[0m\u001b[0;34m)\u001b[0m\u001b[0;34m\u001b[0m\u001b[0;34m\u001b[0m\u001b[0m\n\u001b[0m\u001b[1;32m    600\u001b[0m         \u001b[0mmeta_str\u001b[0m \u001b[0;34m=\u001b[0m \u001b[0mself\u001b[0m\u001b[0;34m.\u001b[0m\u001b[0mget_booster\u001b[0m\u001b[0;34m(\u001b[0m\u001b[0;34m)\u001b[0m\u001b[0;34m.\u001b[0m\u001b[0mattr\u001b[0m\u001b[0;34m(\u001b[0m\u001b[0;34m'scikit_learn'\u001b[0m\u001b[0;34m)\u001b[0m\u001b[0;34m\u001b[0m\u001b[0;34m\u001b[0m\u001b[0m\n\u001b[1;32m    601\u001b[0m         \u001b[0;32mif\u001b[0m \u001b[0mmeta_str\u001b[0m \u001b[0;32mis\u001b[0m \u001b[0;32mNone\u001b[0m\u001b[0;34m:\u001b[0m\u001b[0;34m\u001b[0m\u001b[0;34m\u001b[0m\u001b[0m\n",
      "\u001b[0;32m/usr/local/Caskroom/miniforge/base/envs/ift6758-conda-env/lib/python3.9/site-packages/xgboost/core.py\u001b[0m in \u001b[0;36mload_model\u001b[0;34m(self, fname)\u001b[0m\n\u001b[1;32m   2159\u001b[0m             \u001b[0;31m# from URL.\u001b[0m\u001b[0;34m\u001b[0m\u001b[0;34m\u001b[0m\u001b[0m\n\u001b[1;32m   2160\u001b[0m             \u001b[0mfname\u001b[0m \u001b[0;34m=\u001b[0m \u001b[0mos\u001b[0m\u001b[0;34m.\u001b[0m\u001b[0mfspath\u001b[0m\u001b[0;34m(\u001b[0m\u001b[0mos\u001b[0m\u001b[0;34m.\u001b[0m\u001b[0mpath\u001b[0m\u001b[0;34m.\u001b[0m\u001b[0mexpanduser\u001b[0m\u001b[0;34m(\u001b[0m\u001b[0mfname\u001b[0m\u001b[0;34m)\u001b[0m\u001b[0;34m)\u001b[0m\u001b[0;34m\u001b[0m\u001b[0;34m\u001b[0m\u001b[0m\n\u001b[0;32m-> 2161\u001b[0;31m             _check_call(_LIB.XGBoosterLoadModel(\n\u001b[0m\u001b[1;32m   2162\u001b[0m                 self.handle, c_str(fname)))\n\u001b[1;32m   2163\u001b[0m         \u001b[0;32melif\u001b[0m \u001b[0misinstance\u001b[0m\u001b[0;34m(\u001b[0m\u001b[0mfname\u001b[0m\u001b[0;34m,\u001b[0m \u001b[0mbytearray\u001b[0m\u001b[0;34m)\u001b[0m\u001b[0;34m:\u001b[0m\u001b[0;34m\u001b[0m\u001b[0;34m\u001b[0m\u001b[0m\n",
      "\u001b[0;32m/usr/local/Caskroom/miniforge/base/envs/ift6758-conda-env/lib/python3.9/site-packages/xgboost/core.py\u001b[0m in \u001b[0;36m_check_call\u001b[0;34m(ret)\u001b[0m\n\u001b[1;32m    216\u001b[0m     \"\"\"\n\u001b[1;32m    217\u001b[0m     \u001b[0;32mif\u001b[0m \u001b[0mret\u001b[0m \u001b[0;34m!=\u001b[0m \u001b[0;36m0\u001b[0m\u001b[0;34m:\u001b[0m\u001b[0;34m\u001b[0m\u001b[0;34m\u001b[0m\u001b[0m\n\u001b[0;32m--> 218\u001b[0;31m         \u001b[0;32mraise\u001b[0m \u001b[0mXGBoostError\u001b[0m\u001b[0;34m(\u001b[0m\u001b[0mpy_str\u001b[0m\u001b[0;34m(\u001b[0m\u001b[0m_LIB\u001b[0m\u001b[0;34m.\u001b[0m\u001b[0mXGBGetLastError\u001b[0m\u001b[0;34m(\u001b[0m\u001b[0;34m)\u001b[0m\u001b[0;34m)\u001b[0m\u001b[0;34m)\u001b[0m\u001b[0;34m\u001b[0m\u001b[0;34m\u001b[0m\u001b[0m\n\u001b[0m\u001b[1;32m    219\u001b[0m \u001b[0;34m\u001b[0m\u001b[0m\n\u001b[1;32m    220\u001b[0m \u001b[0;34m\u001b[0m\u001b[0m\n",
      "\u001b[0;31mXGBoostError\u001b[0m: [17:13:33] /Users/runner/miniforge3/conda-bld/xgboost-split_1634712680264/work/src/common/io.cc:102: Opening ift6758/ift6758/data/q5_3_var_threshold.json failed: No such file or directory\nStack trace:\n  [bt] (0) 1   libxgboost.dylib                    0x000000016c147c74 dmlc::LogMessageFatal::~LogMessageFatal() + 116\n  [bt] (1) 2   libxgboost.dylib                    0x000000016c16e6b8 xgboost::common::LoadSequentialFile(std::__1::basic_string<char, std::__1::char_traits<char>, std::__1::allocator<char> >, bool) + 840\n  [bt] (2) 3   libxgboost.dylib                    0x000000016c151167 XGBoosterLoadModel + 551\n  [bt] (3) 4   libffi.8.dylib                      0x000000010bd87d92 ffi_call_unix64 + 82\n  [bt] (4) 5   ???                                 0x0000000305a52d40 0x0 + 12979612992\n\n"
     ]
    }
   ],
   "source": [
    "m.load_model(f1)"
   ]
  },
  {
   "cell_type": "code",
   "execution_count": 39,
   "id": "1164b942-0464-4b10-baa7-bcf575f0424c",
   "metadata": {},
   "outputs": [],
   "source": [
    "# Get XGBoost Classifier feature names\n",
    "clf = m.get_booster()\n",
    "feature_names = clf.feature_names"
   ]
  },
  {
   "cell_type": "code",
   "execution_count": 41,
   "id": "e0494dca-9442-48dc-9003-e998f7cebbe1",
   "metadata": {},
   "outputs": [
    {
     "data": {
      "text/plain": [
       "['eventIdx',\n",
       " 'game_id',\n",
       " 'Game Seconds',\n",
       " 'Game Period',\n",
       " 'X-Coordinate',\n",
       " 'Y-Coordinate',\n",
       " 'Shot Distance',\n",
       " 'Shot Angle',\n",
       " 'Shot Type',\n",
       " 'Was Net Empty',\n",
       " 'Last Event Type',\n",
       " 'Last X-Coordinate',\n",
       " 'Last Y-Coordinate',\n",
       " 'Time from Last Event (seconds)',\n",
       " 'Distance from Last Event',\n",
       " 'Is Rebound',\n",
       " 'Change in Shot Angle',\n",
       " 'Speed']"
      ]
     },
     "execution_count": 41,
     "metadata": {},
     "output_type": "execute_result"
    }
   ],
   "source": [
    "feature_names"
   ]
  },
  {
   "cell_type": "code",
   "execution_count": 48,
   "id": "926bfb18-9817-4804-ae17-57b9dd70bd75",
   "metadata": {},
   "outputs": [
    {
     "data": {
      "text/plain": [
       "(282671, 18)"
      ]
     },
     "execution_count": 48,
     "metadata": {},
     "output_type": "execute_result"
    }
   ],
   "source": [
    "df[feature_names].shape"
   ]
  },
  {
   "cell_type": "code",
   "execution_count": null,
   "id": "d97feff1-571f-4854-abf7-cb10094f9604",
   "metadata": {},
   "outputs": [],
   "source": []
  }
 ],
 "metadata": {
  "kernelspec": {
   "display_name": "Python 3 (ipykernel)",
   "language": "python",
   "name": "python3"
  },
  "language_info": {
   "codemirror_mode": {
    "name": "ipython",
    "version": 3
   },
   "file_extension": ".py",
   "mimetype": "text/x-python",
   "name": "python",
   "nbconvert_exporter": "python",
   "pygments_lexer": "ipython3",
   "version": "3.9.7"
  }
 },
 "nbformat": 4,
 "nbformat_minor": 5
}
